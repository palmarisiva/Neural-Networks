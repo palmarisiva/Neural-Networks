{
 "cells": [
  {
   "cell_type": "markdown",
   "metadata": {},
   "source": [
    "# Gesture Recognition\n",
    "In this group project, you are going to build a 3D Conv model that will be able to predict the 5 gestures correctly. Please import the following libraries to get started."
   ]
  },
  {
   "cell_type": "code",
   "execution_count": 50,
   "metadata": {},
   "outputs": [],
   "source": [
    "import numpy as np\n",
    "import os\n",
    "from scipy.misc import imread, imresize\n",
    "import datetime\n",
    "import os"
   ]
  },
  {
   "cell_type": "markdown",
   "metadata": {},
   "source": [
    "We set the random seed so that the results don't vary drastically."
   ]
  },
  {
   "cell_type": "code",
   "execution_count": 51,
   "metadata": {},
   "outputs": [],
   "source": [
    "np.random.seed(30)\n",
    "import random as rn\n",
    "rn.seed(30)\n",
    "from keras import backend as K\n",
    "import tensorflow as tf\n",
    "tf.set_random_seed(30)"
   ]
  },
  {
   "cell_type": "markdown",
   "metadata": {},
   "source": [
    "In this block, you read the folder names for training and validation. You also set the `batch_size` here. Note that you set the batch size in such a way that you are able to use the GPU in full capacity. You keep increasing the batch size until the machine throws an error."
   ]
  },
  {
   "cell_type": "code",
   "execution_count": 52,
   "metadata": {},
   "outputs": [],
   "source": [
    "train_doc = np.random.permutation(open('Project_data/train.csv').readlines())\n",
    "val_doc = np.random.permutation(open('Project_data/val.csv').readlines())\n",
    "batch_size = 16"
   ]
  },
  {
   "cell_type": "markdown",
   "metadata": {},
   "source": [
    "## Generator\n",
    "This is one of the most important part of the code. The overall structure of the generator has been given. In the generator, you are going to preprocess the images as you have images of 2 different dimensions as well as create a batch of video frames. You have to experiment with `img_idx`, `y`,`z` and normalization such that you get high accuracy."
   ]
  },
  {
   "cell_type": "code",
   "execution_count": 53,
   "metadata": {},
   "outputs": [],
   "source": [
    "x = 15 # number of frames\n",
    "y = 60 # image width\n",
    "z = 60 # image height\n",
    "channel = 3\n",
    "def generator(source_path, folder_list, batch_size):\n",
    "  #  print( 'Source path 23 = ', source_path, '; batch size =', batch_size)\n",
    "    img_idx = [x for x in range(0, 30,2)] \n",
    "   # print(\"img_idx print 23\", img_idx)\n",
    "    while True:\n",
    "        t = np.random.permutation(folder_list)\n",
    "        num_batches = len(folder_list)//batch_size\n",
    "        for batch in range(num_batches): # we iterate over the number of batches\n",
    "            batch_data = np.zeros((batch_size,x,y,z,3)) # x is the number of images you use for each video, (y,z) is the final size of the input images and 3 is the number of channels RGB\n",
    "            batch_labels = np.zeros((batch_size,5)) # batch_labels is the one hot representation of the output\n",
    "            for folder in range(batch_size): # iterate over the batch_size\n",
    "                imgs = os.listdir(source_path+'/'+ t[folder + (batch*batch_size)].split(';')[0])\n",
    "    #            print(\"length of img_idx \", len(img_idx))# read all the images in the folder\n",
    "                for idx,item in enumerate(img_idx): #  Iterate iver the frames/images of a folder to read them in\n",
    "     #               print(\"IDX \", idx)\n",
    "      #              print(\"item \", item)\n",
    "       #             print(\"source_path \", source_path)\n",
    "        #            print(\"batch \",  t[folder + (batch*batch_size)].strip().split(';')[0])\n",
    "         #           print(\"imgs[item] \", imgs[item])\n",
    "          #          print(\"Full PAth \",source_path+'/'+ t[folder + (batch*batch_size)].strip().split(';')[0]+'/'+imgs[item])\n",
    "                    image = imread(source_path+'/'+ t[folder + (batch*batch_size)].strip().split(';')[0]+'/'+imgs[item]).astype(np.float32)\n",
    "                    \n",
    "                    #crop the images and resize them. Note that the images are of 2 different shape \n",
    "                    #and the conv3D will throw error if the inputs in a batch have different shapes\n",
    "                    temp = imresize(image,(60,60))\n",
    "                    temp = temp/127.5-1 #Normalize data\n",
    "                    \n",
    "                    batch_data[folder,idx,:,:,0] = (temp[:,:,0]) #normalise and feed in the image\n",
    "                    batch_data[folder,idx,:,:,1] = (temp[:,:,1])#normalise and feed in the image\n",
    "                    batch_data[folder,idx,:,:,2] = (temp[:,:,2]) #normalise and feed in the image\n",
    "                    \n",
    "                batch_labels[folder, int(t[folder + (batch*batch_size)].strip().split(';')[2])] = 1\n",
    "            yield batch_data, batch_labels #you yield the batch_data and the batch_labels, remember what does yield do\n",
    "\n",
    "        \n",
    "        # write the code for the remaining data points which are left after full batches\n",
    "    if (len(folder_list) != batch_size*num_batches):\n",
    "                print(\"Batch: \",num_batches+1,\"Index:\", batch_size)\n",
    "                batch_size = len(folder_list) - (batch_size*num_batches)\n",
    "                batch_data = np.zeros((batch_size,x,y,z,3))\n",
    "                batch_labels = np.zeros((batch_size,5))\n",
    "                for folder in range(batch_size):\n",
    "                    imgs = os.listdir(source_path+'/'+ t[folder + (batch*batch_size)].split(';')[0]) # read all the images in the folder\n",
    "                    for idx,item in enumerate(img_idx): #  Iterate iver the frames/images of a folder to read them in\n",
    "                        image = imread(source_path+'/'+ t[folder + (batch*batch_size)].strip().split(';')[0]+'/'+imgs[item]).astype(np.float32)\n",
    "                    \n",
    "                    #crop the images and resize them. Note that the images are of 2 different shape \n",
    "                    #and the conv3D will throw error if the inputs in a batch have different shapes\n",
    "                        temp = imresize(image,(60,60))\n",
    "                        temp = temp/127.5-1  #Normalize data\n",
    "                    \n",
    "                        batch_data[folder,idx,:,:,0] = (temp[:,:,0])\n",
    "                        batch_data[folder,idx,:,:,1] = (temp[:,:,1])\n",
    "                        batch_data[folder,idx,:,:,2] = (temp[:,:,2])\n",
    "                   \n",
    "                    batch_labels[folder, int(t[folder + (batch*batch_size)].strip().split(';')[2])] = 1\n",
    "                yield batch_data, batch_labels"
   ]
  },
  {
   "cell_type": "markdown",
   "metadata": {},
   "source": [
    "Note here that a video is represented above in the generator as (number of images, height, width, number of channels). Take this into consideration while creating the model architecture."
   ]
  },
  {
   "cell_type": "code",
   "execution_count": 54,
   "metadata": {},
   "outputs": [
    {
     "name": "stdout",
     "output_type": "stream",
     "text": [
      "# training sequences = 663\n",
      "# validation sequences = 100\n",
      "# epochs = 20\n"
     ]
    }
   ],
   "source": [
    "curr_dt_time = datetime.datetime.now()\n",
    "train_path = 'Project_data/train'\n",
    "val_path = 'Project_data/val'\n",
    "num_train_sequences = len(train_doc)\n",
    "print('# training sequences =', num_train_sequences)\n",
    "num_val_sequences = len(val_doc)\n",
    "print('# validation sequences =', num_val_sequences)\n",
    "num_epochs = 20 # choose the number of epochs\n",
    "print ('# epochs =', num_epochs)"
   ]
  },
  {
   "cell_type": "markdown",
   "metadata": {},
   "source": [
    "## Model\n",
    "Here you make the model using different functionalities that Keras provides. Remember to use `Conv3D` and `MaxPooling3D` and not `Conv2D` and `Maxpooling2D` for a 3D convolution model. You would want to use `TimeDistributed` while building a Conv2D + RNN model. Also remember that the last layer is the softmax. Design the network in such a way that the model is able to give good accuracy on the least number of parameters so that it can fit in the memory of the webcam."
   ]
  },
  {
   "cell_type": "code",
   "execution_count": 43,
   "metadata": {},
   "outputs": [],
   "source": [
    "from keras.models import Sequential, Model\n",
    "from keras.layers import Dense, GRU, Flatten, TimeDistributed, Flatten, BatchNormalization, Activation, Dropout\n",
    "from keras.layers.convolutional import Conv3D, MaxPooling3D\n",
    "from keras.callbacks import ModelCheckpoint, ReduceLROnPlateau\n",
    "from keras import optimizers\n",
    "import keras\n",
    "# Define model b\n",
    "model_b = Sequential()\n",
    "model_b.add(Conv3D(32, kernel_size=(3, 3, 3), input_shape=(x,y,z,channel), padding='same'))\n",
    "model_b.add(Activation('relu'))\n",
    "model_b.add(Conv3D(32, kernel_size=(3, 3, 3), padding='same'))\n",
    "model_b.add(Activation('relu'))\n",
    "model_b.add(MaxPooling3D(pool_size=(3, 3, 3), padding='same'))\n",
    "model_b.add(Dropout(0.25))\n",
    "\n",
    "model_b.add(Conv3D(64, kernel_size=(3, 3, 3), padding='same'))\n",
    "model_b.add(Activation('relu'))\n",
    "model_b.add(Conv3D(64, kernel_size=(3, 3, 3), padding='same'))\n",
    "model_b.add(Activation('relu'))\n",
    "model_b.add(MaxPooling3D(pool_size=(3, 3, 3), padding='same'))\n",
    "model_b.add(Dropout(0.25))\n",
    "\n",
    "model_b.add(Flatten())\n",
    "model_b.add(Dense(128, activation='relu'))\n",
    "model_b.add(Dropout(0.5))\n",
    "model_b.add(Dense(5, activation='softmax'))\n",
    "\n"
   ]
  },
  {
   "cell_type": "markdown",
   "metadata": {},
   "source": [
    "Now that you have written the model, the next step is to `compile` the model. When you print the `summary` of the model, you'll see the total number of parameters you have to train."
   ]
  },
  {
   "cell_type": "code",
   "execution_count": 44,
   "metadata": {
    "scrolled": true
   },
   "outputs": [
    {
     "name": "stdout",
     "output_type": "stream",
     "text": [
      "_________________________________________________________________\n",
      "Layer (type)                 Output Shape              Param #   \n",
      "=================================================================\n",
      "conv3d_13 (Conv3D)           (None, 15, 60, 60, 32)    2624      \n",
      "_________________________________________________________________\n",
      "activation_13 (Activation)   (None, 15, 60, 60, 32)    0         \n",
      "_________________________________________________________________\n",
      "conv3d_14 (Conv3D)           (None, 15, 60, 60, 32)    27680     \n",
      "_________________________________________________________________\n",
      "activation_14 (Activation)   (None, 15, 60, 60, 32)    0         \n",
      "_________________________________________________________________\n",
      "max_pooling3d_7 (MaxPooling3 (None, 5, 20, 20, 32)     0         \n",
      "_________________________________________________________________\n",
      "dropout_10 (Dropout)         (None, 5, 20, 20, 32)     0         \n",
      "_________________________________________________________________\n",
      "conv3d_15 (Conv3D)           (None, 5, 20, 20, 64)     55360     \n",
      "_________________________________________________________________\n",
      "activation_15 (Activation)   (None, 5, 20, 20, 64)     0         \n",
      "_________________________________________________________________\n",
      "conv3d_16 (Conv3D)           (None, 5, 20, 20, 64)     110656    \n",
      "_________________________________________________________________\n",
      "activation_16 (Activation)   (None, 5, 20, 20, 64)     0         \n",
      "_________________________________________________________________\n",
      "max_pooling3d_8 (MaxPooling3 (None, 2, 7, 7, 64)       0         \n",
      "_________________________________________________________________\n",
      "dropout_11 (Dropout)         (None, 2, 7, 7, 64)       0         \n",
      "_________________________________________________________________\n",
      "flatten_4 (Flatten)          (None, 6272)              0         \n",
      "_________________________________________________________________\n",
      "dense_6 (Dense)              (None, 128)               802944    \n",
      "_________________________________________________________________\n",
      "dropout_12 (Dropout)         (None, 128)               0         \n",
      "_________________________________________________________________\n",
      "dense_7 (Dense)              (None, 5)                 645       \n",
      "=================================================================\n",
      "Total params: 999,909\n",
      "Trainable params: 999,909\n",
      "Non-trainable params: 0\n",
      "_________________________________________________________________\n"
     ]
    }
   ],
   "source": [
    "#optimiser = optimizers.Adam(lr=0.001)\n",
    "model_b.compile(optimizer=keras.optimizers.Adadelta(), loss='categorical_crossentropy', metrics=['categorical_accuracy'])\n",
    "model_b.summary()"
   ]
  },
  {
   "cell_type": "markdown",
   "metadata": {},
   "source": [
    "Let us create the `train_generator` and the `val_generator` which will be used in `.fit_generator`."
   ]
  },
  {
   "cell_type": "code",
   "execution_count": 45,
   "metadata": {},
   "outputs": [],
   "source": [
    "train_generator = generator(train_path, train_doc, batch_size)\n",
    "val_generator = generator(val_path, val_doc, batch_size)"
   ]
  },
  {
   "cell_type": "code",
   "execution_count": 46,
   "metadata": {},
   "outputs": [],
   "source": [
    "model_name = 'model_init' + '_' + str(curr_dt_time).replace(' ','').replace(':','_') + '/'\n",
    "    \n",
    "if not os.path.exists(model_name):\n",
    "    os.mkdir(model_name)\n",
    "        \n",
    "filepath = model_name + 'model-{epoch:05d}-{loss:.5f}-{categorical_accuracy:.5f}-{val_loss:.5f}-{val_categorical_accuracy:.5f}.h5'\n",
    "\n",
    "checkpoint = ModelCheckpoint(filepath, monitor='val_loss', verbose=1, save_best_only=False, save_weights_only=False, mode='auto', period=1)\n",
    "\n",
    "LR = ReduceLROnPlateau(monitor='val_loss', factor=0.5, patience=2, cooldown=1, verbose=1) # write the REducelronplateau code here\n",
    "callbacks_list = [checkpoint, LR]"
   ]
  },
  {
   "cell_type": "markdown",
   "metadata": {},
   "source": [
    "The `steps_per_epoch` and `validation_steps` are used by `fit_generator` to decide the number of next() calls it need to make."
   ]
  },
  {
   "cell_type": "code",
   "execution_count": 47,
   "metadata": {},
   "outputs": [],
   "source": [
    "if (num_train_sequences%batch_size) == 0:\n",
    "    steps_per_epoch = int(num_train_sequences/batch_size)\n",
    "else:\n",
    "    steps_per_epoch = (num_train_sequences//batch_size) + 1\n",
    "\n",
    "if (num_val_sequences%batch_size) == 0:\n",
    "    validation_steps = int(num_val_sequences/batch_size)\n",
    "else:\n",
    "    validation_steps = (num_val_sequences//batch_size) + 1"
   ]
  },
  {
   "cell_type": "markdown",
   "metadata": {},
   "source": [
    "Let us now fit the model. This will start training the model and with the help of the checkpoints, you'll be able to save the model at the end of each epoch."
   ]
  },
  {
   "cell_type": "code",
   "execution_count": 48,
   "metadata": {},
   "outputs": [
    {
     "name": "stderr",
     "output_type": "stream",
     "text": [
      "/mnt/disks/user/anaconda3/lib/python3.6/site-packages/ipykernel_launcher.py:25: DeprecationWarning: `imread` is deprecated!\n",
      "`imread` is deprecated in SciPy 1.0.0, and will be removed in 1.2.0.\n",
      "Use ``imageio.imread`` instead.\n",
      "/mnt/disks/user/anaconda3/lib/python3.6/site-packages/ipykernel_launcher.py:29: DeprecationWarning: `imresize` is deprecated!\n",
      "`imresize` is deprecated in SciPy 1.0.0, and will be removed in 1.2.0.\n",
      "Use ``skimage.transform.resize`` instead.\n",
      "/mnt/disks/user/anaconda3/lib/python3.6/site-packages/ipykernel_launcher.py:25: DeprecationWarning: `imread` is deprecated!\n",
      "`imread` is deprecated in SciPy 1.0.0, and will be removed in 1.2.0.\n",
      "Use ``imageio.imread`` instead.\n",
      "/mnt/disks/user/anaconda3/lib/python3.6/site-packages/ipykernel_launcher.py:29: DeprecationWarning: `imresize` is deprecated!\n",
      "`imresize` is deprecated in SciPy 1.0.0, and will be removed in 1.2.0.\n",
      "Use ``skimage.transform.resize`` instead.\n"
     ]
    },
    {
     "name": "stdout",
     "output_type": "stream",
     "text": [
      "Epoch 1/20\n",
      "42/42 [==============================] - 118s 3s/step - loss: 1.6109 - categorical_accuracy: 0.2128 - val_loss: 1.6054 - val_categorical_accuracy: 0.2143\n",
      "\n",
      "Epoch 00001: saving model to model_init_2020-06-2709_27_12.577674/model-00001-1.61092-0.21280-1.60542-0.21429.h5\n",
      "Epoch 2/20\n",
      "42/42 [==============================] - 36s 863ms/step - loss: 1.5364 - categorical_accuracy: 0.2991 - val_loss: 1.3546 - val_categorical_accuracy: 0.4286\n",
      "\n",
      "Epoch 00002: saving model to model_init_2020-06-2709_27_12.577674/model-00002-1.53641-0.29911-1.35456-0.42857.h5\n",
      "Epoch 3/20\n",
      "42/42 [==============================] - 36s 849ms/step - loss: 1.4143 - categorical_accuracy: 0.3720 - val_loss: 1.2475 - val_categorical_accuracy: 0.4554\n",
      "\n",
      "Epoch 00003: saving model to model_init_2020-06-2709_27_12.577674/model-00003-1.41432-0.37202-1.24746-0.45536.h5\n",
      "Epoch 4/20\n",
      "42/42 [==============================] - 36s 867ms/step - loss: 1.2740 - categorical_accuracy: 0.4435 - val_loss: 1.0694 - val_categorical_accuracy: 0.5893\n",
      "\n",
      "Epoch 00004: saving model to model_init_2020-06-2709_27_12.577674/model-00004-1.27402-0.44345-1.06942-0.58929.h5\n",
      "Epoch 5/20\n",
      "42/42 [==============================] - 36s 851ms/step - loss: 1.2043 - categorical_accuracy: 0.4926 - val_loss: 1.0451 - val_categorical_accuracy: 0.5982\n",
      "\n",
      "Epoch 00005: saving model to model_init_2020-06-2709_27_12.577674/model-00005-1.20430-0.49256-1.04514-0.59821.h5\n",
      "Epoch 6/20\n",
      "42/42 [==============================] - 36s 859ms/step - loss: 0.9681 - categorical_accuracy: 0.5952 - val_loss: 0.7944 - val_categorical_accuracy: 0.7411\n",
      "\n",
      "Epoch 00006: saving model to model_init_2020-06-2709_27_12.577674/model-00006-0.96812-0.59524-0.79443-0.74107.h5\n",
      "Epoch 7/20\n",
      "42/42 [==============================] - 36s 858ms/step - loss: 0.9231 - categorical_accuracy: 0.6235 - val_loss: 0.8893 - val_categorical_accuracy: 0.6786\n",
      "\n",
      "Epoch 00007: saving model to model_init_2020-06-2709_27_12.577674/model-00007-0.92307-0.62351-0.88932-0.67857.h5\n",
      "Epoch 8/20\n",
      "42/42 [==============================] - 35s 825ms/step - loss: 0.8109 - categorical_accuracy: 0.6667 - val_loss: 0.8460 - val_categorical_accuracy: 0.6250\n",
      "\n",
      "Epoch 00008: saving model to model_init_2020-06-2709_27_12.577674/model-00008-0.81091-0.66667-0.84602-0.62500.h5\n",
      "\n",
      "Epoch 00008: ReduceLROnPlateau reducing learning rate to 0.5.\n",
      "Epoch 9/20\n",
      "42/42 [==============================] - 35s 834ms/step - loss: 0.5760 - categorical_accuracy: 0.7619 - val_loss: 0.6760 - val_categorical_accuracy: 0.7679\n",
      "\n",
      "Epoch 00009: saving model to model_init_2020-06-2709_27_12.577674/model-00009-0.57595-0.76190-0.67601-0.76786.h5\n",
      "Epoch 10/20\n",
      "42/42 [==============================] - 36s 846ms/step - loss: 0.4507 - categorical_accuracy: 0.8318 - val_loss: 0.6725 - val_categorical_accuracy: 0.7589\n",
      "\n",
      "Epoch 00010: saving model to model_init_2020-06-2709_27_12.577674/model-00010-0.45070-0.83185-0.67245-0.75893.h5\n",
      "Epoch 11/20\n",
      "42/42 [==============================] - 35s 840ms/step - loss: 0.4055 - categorical_accuracy: 0.8557 - val_loss: 0.6899 - val_categorical_accuracy: 0.7411\n",
      "\n",
      "Epoch 00011: saving model to model_init_2020-06-2709_27_12.577674/model-00011-0.40551-0.85565-0.68991-0.74107.h5\n",
      "Epoch 12/20\n",
      "42/42 [==============================] - 35s 845ms/step - loss: 0.3406 - categorical_accuracy: 0.8810 - val_loss: 0.7508 - val_categorical_accuracy: 0.7946\n",
      "\n",
      "Epoch 00012: saving model to model_init_2020-06-2709_27_12.577674/model-00012-0.34059-0.88095-0.75084-0.79464.h5\n",
      "\n",
      "Epoch 00012: ReduceLROnPlateau reducing learning rate to 0.25.\n",
      "Epoch 13/20\n",
      "42/42 [==============================] - 36s 846ms/step - loss: 0.2465 - categorical_accuracy: 0.8929 - val_loss: 0.7768 - val_categorical_accuracy: 0.7143\n",
      "\n",
      "Epoch 00013: saving model to model_init_2020-06-2709_27_12.577674/model-00013-0.24648-0.89286-0.77680-0.71429.h5\n",
      "Epoch 14/20\n",
      "42/42 [==============================] - 35s 845ms/step - loss: 0.1998 - categorical_accuracy: 0.9182 - val_loss: 0.6474 - val_categorical_accuracy: 0.7768\n",
      "\n",
      "Epoch 00014: saving model to model_init_2020-06-2709_27_12.577674/model-00014-0.19977-0.91815-0.64740-0.77679.h5\n",
      "Epoch 15/20\n",
      "42/42 [==============================] - 35s 835ms/step - loss: 0.1708 - categorical_accuracy: 0.9435 - val_loss: 0.7164 - val_categorical_accuracy: 0.8125\n",
      "\n",
      "Epoch 00015: saving model to model_init_2020-06-2709_27_12.577674/model-00015-0.17084-0.94345-0.71642-0.81250.h5\n",
      "Epoch 16/20\n",
      "42/42 [==============================] - 36s 855ms/step - loss: 0.1819 - categorical_accuracy: 0.9375 - val_loss: 0.5443 - val_categorical_accuracy: 0.8482\n",
      "\n",
      "Epoch 00016: saving model to model_init_2020-06-2709_27_12.577674/model-00016-0.18187-0.93750-0.54427-0.84821.h5\n",
      "Epoch 17/20\n",
      "42/42 [==============================] - 35s 841ms/step - loss: 0.1794 - categorical_accuracy: 0.9330 - val_loss: 0.9434 - val_categorical_accuracy: 0.7500\n",
      "\n",
      "Epoch 00017: saving model to model_init_2020-06-2709_27_12.577674/model-00017-0.17939-0.93304-0.94338-0.75000.h5\n",
      "Epoch 18/20\n",
      "42/42 [==============================] - 35s 835ms/step - loss: 0.1250 - categorical_accuracy: 0.9643 - val_loss: 0.6458 - val_categorical_accuracy: 0.8304\n",
      "\n",
      "Epoch 00018: saving model to model_init_2020-06-2709_27_12.577674/model-00018-0.12503-0.96429-0.64582-0.83036.h5\n",
      "\n",
      "Epoch 00018: ReduceLROnPlateau reducing learning rate to 0.125.\n",
      "Epoch 19/20\n",
      "42/42 [==============================] - 35s 836ms/step - loss: 0.1183 - categorical_accuracy: 0.9658 - val_loss: 0.7977 - val_categorical_accuracy: 0.8036\n",
      "\n",
      "Epoch 00019: saving model to model_init_2020-06-2709_27_12.577674/model-00019-0.11828-0.96577-0.79769-0.80357.h5\n",
      "Epoch 20/20\n",
      "42/42 [==============================] - 36s 856ms/step - loss: 0.1161 - categorical_accuracy: 0.9583 - val_loss: 0.7156 - val_categorical_accuracy: 0.8125\n",
      "\n",
      "Epoch 00020: saving model to model_init_2020-06-2709_27_12.577674/model-00020-0.11614-0.95833-0.71557-0.81250.h5\n",
      "\n",
      "Epoch 00020: ReduceLROnPlateau reducing learning rate to 0.0625.\n"
     ]
    }
   ],
   "source": [
    "history = model_b.fit_generator(train_generator, steps_per_epoch=steps_per_epoch, epochs=num_epochs, verbose=1, \n",
    "                    callbacks=callbacks_list, validation_data=val_generator, use_multiprocessing=True,\n",
    "                    validation_steps=validation_steps, class_weight=None, workers=1, initial_epoch=0)"
   ]
  },
  {
   "cell_type": "code",
   "execution_count": 49,
   "metadata": {},
   "outputs": [
    {
     "name": "stdout",
     "output_type": "stream",
     "text": [
      "dict_keys(['val_loss', 'val_categorical_accuracy', 'loss', 'categorical_accuracy', 'lr'])\n"
     ]
    },
    {
     "data": {
      "image/png": "[encoded data removed]",
      "text/plain": [
       "<Figure size 432x288 with 1 Axes>"
      ]
     },
     "metadata": {},
     "output_type": "display_data"
    },
    {
     "data": {
      "image/png": "[encoded data removed]",
      "text/plain": [
       "<Figure size 432x288 with 1 Axes>"
      ]
     },
     "metadata": {},
     "output_type": "display_data"
    }
   ],
   "source": [
    "import matplotlib.pyplot as plt\n",
    "%matplotlib inline\n",
    "# list all data in history\n",
    "print(history.history.keys())\n",
    "# summarize history for accuracy\n",
    "plt.plot(history.history['categorical_accuracy'])\n",
    "plt.plot(history.history['val_categorical_accuracy'])\n",
    "plt.title('model accuracy')\n",
    "plt.ylabel('accuracy')\n",
    "plt.xlabel('epoch')\n",
    "plt.legend(['train', 'test'], loc='upper left')\n",
    "plt.show()\n",
    "# summarize history for loss\n",
    "plt.plot(history.history['loss'])\n",
    "plt.plot(history.history['val_loss'])\n",
    "plt.title('model loss')\n",
    "plt.ylabel('loss')\n",
    "plt.xlabel('epoch')\n",
    "plt.legend(['train', 'test'], loc='upper left')\n",
    "plt.show()"
   ]
  },
  {
   "cell_type": "code",
   "execution_count": null,
   "metadata": {},
   "outputs": [],
   "source": []
  }
 ],
 "metadata": {
  "kernelspec": {
   "display_name": "Python 3",
   "language": "python",
   "name": "python3"
  },
  "language_info": {
   "codemirror_mode": {
    "name": "ipython",
    "version": 3
   },
   "file_extension": ".py",
   "mimetype": "text/x-python",
   "name": "python",
   "nbconvert_exporter": "python",
   "pygments_lexer": "ipython3",
   "version": "3.7.3"
  }
 },
 "nbformat": 4,
 "nbformat_minor": 2
}
